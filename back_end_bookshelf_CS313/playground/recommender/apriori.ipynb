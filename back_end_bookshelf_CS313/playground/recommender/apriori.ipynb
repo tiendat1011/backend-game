{
 "cells": [
  {
   "cell_type": "markdown",
   "metadata": {},
   "source": [
    "Use this file instead for more convenient"
   ]
  },
  {
   "cell_type": "code",
   "execution_count": null,
   "metadata": {},
   "outputs": [],
   "source": [
    "# !pip install efficient_apriori"
   ]
  },
  {
   "cell_type": "code",
   "execution_count": 1,
   "metadata": {},
   "outputs": [],
   "source": [
    "import pandas as pd\n",
    "from efficient_apriori import apriori"
   ]
  },
  {
   "cell_type": "code",
   "execution_count": 2,
   "metadata": {},
   "outputs": [],
   "source": [
    "data = pd.read_csv('../data/raw/final_transactions.csv', header=None)"
   ]
  },
  {
   "cell_type": "code",
   "execution_count": 3,
   "metadata": {},
   "outputs": [
    {
     "data": {
      "text/plain": [
       "(5000, 12)"
      ]
     },
     "execution_count": 3,
     "metadata": {},
     "output_type": "execute_result"
    }
   ],
   "source": [
    "data.shape"
   ]
  },
  {
   "cell_type": "code",
   "execution_count": 5,
   "metadata": {},
   "outputs": [],
   "source": [
    "records = []\n",
    "for i in range(0, data.shape[0]):\n",
    "    record = [int(value) for value in data.values[i] if not pd.isnull(value)]\n",
    "    records.append(record)"
   ]
  },
  {
   "cell_type": "code",
   "execution_count": 6,
   "metadata": {},
   "outputs": [
    {
     "name": "stdout",
     "output_type": "stream",
     "text": [
      "[[1, 2, 3, 6, 8, 10, 17, 27, 40, 49, 50, 142], [1, 2, 3, 6, 8, 17, 27, 40, 49, 50, 9], [1, 2, 3, 6, 8, 17, 27, 40, 49, 50], [1, 2, 3, 6, 8, 17, 27, 40, 49, 50, 7], [1, 2, 3, 6, 8, 10, 17, 27, 40, 49, 50, 26]]\n"
     ]
    }
   ],
   "source": [
    "print(records[:5])"
   ]
  },
  {
   "cell_type": "code",
   "execution_count": 7,
   "metadata": {},
   "outputs": [],
   "source": [
    "itemsets, rules = apriori(records, min_support=0.01, min_confidence=0.2)"
   ]
  },
  {
   "cell_type": "code",
   "execution_count": 8,
   "metadata": {},
   "outputs": [
    {
     "name": "stdout",
     "output_type": "stream",
     "text": [
      "501\n"
     ]
    }
   ],
   "source": [
    "print(len(rules))"
   ]
  },
  {
   "cell_type": "code",
   "execution_count": 10,
   "metadata": {},
   "outputs": [],
   "source": [
    "results = []\n",
    "for rule in rules:\n",
    "    base_items = \", \".join(map(str, rule.lhs))\n",
    "    add_items = \", \".join(map(str, rule.rhs)) \n",
    "    support = rule.support\n",
    "    confidence = rule.confidence\n",
    "    lift = rule.lift\n",
    "\n",
    "    results.append({\n",
    "        'base_items': base_items,\n",
    "        'add_items': add_items,\n",
    "        'support': support,\n",
    "        'confidence': confidence,\n",
    "        'lift': lift\n",
    "    })\n"
   ]
  },
  {
   "cell_type": "code",
   "execution_count": 23,
   "metadata": {},
   "outputs": [],
   "source": [
    "results = sorted(results, key=lambda x: x['support'], reverse=True)\n"
   ]
  },
  {
   "cell_type": "code",
   "execution_count": 24,
   "metadata": {},
   "outputs": [
    {
     "name": "stdout",
     "output_type": "stream",
     "text": [
      "  base_items add_items  support  confidence      lift\n",
      "0         50         6   0.0864    0.552430  2.784424\n",
      "1          6        50   0.0864    0.435484  2.784424\n",
      "2        107         6   0.0630    0.544041  2.742144\n",
      "3          6       107   0.0630    0.317540  2.742144\n",
      "4          3         1   0.0562    0.753351  6.036468\n"
     ]
    }
   ],
   "source": [
    "rules_df = pd.DataFrame(results)\n",
    "print(rules_df.head())\n",
    "rules_df.to_csv('../data/raw/rules.csv', index=False)"
   ]
  },
  {
   "cell_type": "code",
   "execution_count": 25,
   "metadata": {},
   "outputs": [],
   "source": [
    "import json"
   ]
  },
  {
   "cell_type": "code",
   "execution_count": 26,
   "metadata": {},
   "outputs": [],
   "source": [
    "json_data = json.dumps(json.loads(rules_df.to_json(orient='records')), indent=4)\n",
    "with open('../data/rules.json', 'w') as json_file:\n",
    "    json_file.write(json_data)"
   ]
  }
 ],
 "metadata": {
  "kernelspec": {
   "display_name": "Python 3",
   "language": "python",
   "name": "python3"
  },
  "language_info": {
   "codemirror_mode": {
    "name": "ipython",
    "version": 3
   },
   "file_extension": ".py",
   "mimetype": "text/x-python",
   "name": "python",
   "nbconvert_exporter": "python",
   "pygments_lexer": "ipython3",
   "version": "3.9.6"
  }
 },
 "nbformat": 4,
 "nbformat_minor": 2
}
