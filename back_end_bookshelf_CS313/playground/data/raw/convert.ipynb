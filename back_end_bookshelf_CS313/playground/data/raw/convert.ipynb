{
 "cells": [
  {
   "cell_type": "code",
   "execution_count": 13,
   "metadata": {},
   "outputs": [],
   "source": [
    "import pandas as pd\n",
    "import json\n",
    "import csv"
   ]
  },
  {
   "cell_type": "code",
   "execution_count": 5,
   "metadata": {},
   "outputs": [],
   "source": [
    "data = pd.read_csv('../raw/books.csv')"
   ]
  },
  {
   "cell_type": "code",
   "execution_count": 6,
   "metadata": {},
   "outputs": [],
   "source": [
    "# Remove columns that are not needed\n",
    "data = data.drop(columns=['published_year', 'description', 'authors', 'average_rating', 'categories', 'num_pages','thumbnail', 'price'])"
   ]
  },
  {
   "cell_type": "code",
   "execution_count": 7,
   "metadata": {},
   "outputs": [
    {
     "data": {
      "text/html": [
       "<div>\n",
       "<style scoped>\n",
       "    .dataframe tbody tr th:only-of-type {\n",
       "        vertical-align: middle;\n",
       "    }\n",
       "\n",
       "    .dataframe tbody tr th {\n",
       "        vertical-align: top;\n",
       "    }\n",
       "\n",
       "    .dataframe thead th {\n",
       "        text-align: right;\n",
       "    }\n",
       "</style>\n",
       "<table border=\"1\" class=\"dataframe\">\n",
       "  <thead>\n",
       "    <tr style=\"text-align: right;\">\n",
       "      <th></th>\n",
       "      <th>book_id</th>\n",
       "      <th>title</th>\n",
       "    </tr>\n",
       "  </thead>\n",
       "  <tbody>\n",
       "    <tr>\n",
       "      <th>0</th>\n",
       "      <td>1</td>\n",
       "      <td>Harry Potter and the Sorcerer's Stone (Book 1)</td>\n",
       "    </tr>\n",
       "    <tr>\n",
       "      <th>1</th>\n",
       "      <td>2</td>\n",
       "      <td>Harry Potter and the Prisoner of Azkaban (Book 3)</td>\n",
       "    </tr>\n",
       "    <tr>\n",
       "      <th>2</th>\n",
       "      <td>3</td>\n",
       "      <td>Harry Potter and the Chamber of Secrets (Book 2)</td>\n",
       "    </tr>\n",
       "    <tr>\n",
       "      <th>3</th>\n",
       "      <td>4</td>\n",
       "      <td>Harry Potter and the Order of the Phoenix (Boo...</td>\n",
       "    </tr>\n",
       "    <tr>\n",
       "      <th>4</th>\n",
       "      <td>5</td>\n",
       "      <td>Harry Potter and the Half-Blood Prince (Book 6)</td>\n",
       "    </tr>\n",
       "  </tbody>\n",
       "</table>\n",
       "</div>"
      ],
      "text/plain": [
       "   book_id                                              title\n",
       "0        1     Harry Potter and the Sorcerer's Stone (Book 1)\n",
       "1        2  Harry Potter and the Prisoner of Azkaban (Book 3)\n",
       "2        3   Harry Potter and the Chamber of Secrets (Book 2)\n",
       "3        4  Harry Potter and the Order of the Phoenix (Boo...\n",
       "4        5    Harry Potter and the Half-Blood Prince (Book 6)"
      ]
     },
     "execution_count": 7,
     "metadata": {},
     "output_type": "execute_result"
    }
   ],
   "source": [
    "data.head()"
   ]
  },
  {
   "cell_type": "code",
   "execution_count": 8,
   "metadata": {},
   "outputs": [],
   "source": [
    "book_id_map = dict(zip(data['title'], data['book_id']))"
   ]
  },
  {
   "cell_type": "code",
   "execution_count": 9,
   "metadata": {},
   "outputs": [
    {
     "name": "stdout",
     "output_type": "stream",
     "text": [
      "{\"Harry Potter and the Sorcerer's Stone (Book 1)\": 1, 'Harry Potter and the Prisoner of Azkaban (Book 3)': 2, 'Harry Potter and the Chamber of Secrets (Book 2)': 3, 'Harry Potter and the Order of the Phoenix (Book 5)': 4, 'Harry Potter and the Half-Blood Prince (Book 6)': 5, 'The Alchemist': 6, 'The Giver': 7, 'Jane Eyre': 8, \"Charlotte's Web (full color)\": 9, 'Water for Elephants': 10, 'The Devil Wears Prada': 11, 'A Tale of Two Cities': 12, 'The Princess Bride': 13, 'Outlander': 14, 'A Clash of Kings': 15, 'Anne of Green Gables': 16, 'Hamlet': 17, 'The Road': 18, 'The Joy Luck Club': 19, 'One Hundred Years of Solitude': 20, 'The pillars of the earth': 21, \"The Memory Keeper's Daughter\": 22, 'A Feast for Crows': 23, 'The Chronicles of Narnia (adult)': 24, 'Persuasion': 25, 'Marked': 26, 'The 7 Habits of Highly Effective People': 27, 'Fight Club: A Novel': 28, 'Atonement': 29, 'Coraline': 30, 'Good Omens': 31, 'East of Eden': 32, 'The Client': 33, 'Flowers for Algernon': 34, 'A Tree Grows in Brooklyn': 35, 'Extremely Loud and Incredibly Close': 36, 'The Pelican Brief': 37, 'Love in the Time of Cholera': 38, 'The Shadow of the Wind': 39, 'Who Moved My Cheese?': 40, 'Stardust': 41, 'Goodnight Moon 60th Anniversary Edition': 42, 'The Call of the Wild': 43, 'Dark Lover': 44, \"The Ultimate Hitchhiker's Guide to the Galaxy\": 45, 'The Runaway Jury': 46, 'The Pact': 47, 'Mansfield Park': 48, 'A Short History of Nearly Everything': 49, 'The Art of War': 50, 'The Princess Diaries': 51, 'Their Eyes Were Watching God': 52, 'Dragonfly in Amber': 53, 'Kafka on the Shore': 54, 'Cold Mountain': 55, \"The No. 1 Ladies' Detective Agency\": 56, \"Wizard's First Rule\": 57, 'The Good Earth': 58, 'Little House in the Big Woods': 59, 'The Andromeda Strain': 60, 'Voyager': 61, 'Snow Crash': 62, 'Something Blue': 63, 'The Angel Experiment': 64, 'A Wizard of Earthsea': 65, 'Oryx and Crake': 66, 'The Prince of Tides': 67, 'The Dragon Reborn': 68, 'A Separate Peace': 69, 'Mrs. Dalloway': 70, 'Cell': 71, 'The Drawing of the Three': 72, 'Nickel and Dimed': 73, 'The Canterbury Tales': 74, 'The Trial': 75, 'Anansi Boys': 76, 'The Vampire Lestat': 77, 'Lover Eternal': 78, 'Jonathan Strange & Mr Norrell': 79, \"Howl's Moving Castle\": 80, 'The Rainmaker': 81, 'The Guardian': 82, 'Lover Awakened': 83, 'Congo': 84, 'Pippi Longstocking': 85, 'Animal Farm and 1984': 86, 'Baby Proof': 87, 'The Hunchback of Notre-Dame': 88, 'Julius Caesar': 89, 'The Constant Princess': 90, 'Lamb': 91, 'The Merchant of Venice': 92, 'Shutter Island': 93, \"Suzanne's Diary for Nicholas\": 94, 'Gathering Blue': 95, 'The Republic': 96, 'Veronika Decides to Die': 97, 'Brave New World and Brave New World Revisited': 98, 'The Bluest Eye': 99, 'The Fiery Cross': 100, 'The Alienist': 101, 'The Screwtape Letters': 102, 'No Country for Old Men': 103, 'Guilty Pleasures': 104, 'Fablehaven': 105, 'Getting Things Done': 106, 'Think and Grow Rich': 107, 'Sideways Stories from Wayside School': 108, 'Moneyball: The Art of Winning an Unfair Game': 109, 'The Red Badge of Courage': 110, 'A Scanner Darkly': 111, 'The Five Dysfunctions of a Team': 112, 'Arkham Asylum': 113, 'Built to Last': 114, 'The War of Art': 115, 'Longitude': 116, 'Beyond Good and Evil': 117, 'The Truth': 118, 'Everyday Italian': 119, 'Fooled By Randomness': 120, 'I Like You': 121, 'Crucial Conversations': 122, 'The Art of Loving': 123, 'Dragons of Winter Night': 124, \"Neil Gaiman's Neverwhere\": 125, \"Long Day's Journey Into Night\": 126, 'The Complete Calvin and Hobbes': 127, 'Letters to a Young Poet': 128, 'Lysistrata': 129, \"The Innovator's Dilemma\": 130, 'The Universe in a Nutshell': 131, 'The Doors of Perception and Heaven and Hell': 132, 'The Social Contract': 133, 'Murder in Mesopotamia': 134, 'Safety Behind Bars': 135, 'Appointment with Death': 136, 'The Trial and Death of Socrates (Third Edition)': 137, 'Astonishing X-Men - Volume 1': 138, 'Searching for God Knows What': 139, 'The Nicomachean Ethics': 140, 'The Big Four': 141, 'Death in the Clouds': 142, 'Execution': 143, 'Writing Down the Bones': 144, 'The Best Defense': 145, 'Genome': 146, 'Velvet Elvis': 147, 'The Lord of the Rings': 148, 'Wayside School Gets a Little Stranger': 149, \"The Winter's Tale\": 150, 'King Henry IV Part 1': 151, 'The Great and Secret Show': 152, 'All I Really Need to Know I Learned in Kindergarten': 153, 'No God But God': 154, 'Death Note': 155, 'The SPEED of Trust': 156, 'The Poetry of Pablo Neruda': 157, 'How to Read Literature Like a Professor': 158, 'Five Dialogues': 159, 'The Absolute Sandman': 160, 'Parallel Worlds': 161, 'Having a Mary Heart in a Martha World': 162, \"Giada's Family Dinners\": 163, 'Grace (eventually)': 164, 'The Tao of Physics': 165, 'Fear and Trembling': 166, 'A History of the World in 6 Glasses': 167, 'The Hollow': 168, 'Tractatus Logico-philosophicus': 169, 'Sailing Alone Around the Room': 170, 'Five Go Adventuring Again': 171, \"Five Go to Smuggler's Top\": 172, 'Discourse on the Origin of Inequality': 173, 'The Tale of Jemima Puddle-Duck': 174, 'Unweaving the Rainbow': 175, 'I Wish that I Had Duck Feet': 176, \"Where's My Cow?\": 177, 'On Bullshit': 178, 'Everyday Pasta': 179, \"It's Called a Breakup Because It's Broken\": 180, 'Fullmetal Alchemist': 181, 'The Mysterious Mr. Quin': 182, 'Dragonology': 183, \"Jamie's Italy\": 184, 'One Hundred Demons': 185, 'Islam': 186, 'Mere Christianity': 187, 'The Sins of the Fathers': 188, 'Life of the Beloved': 189, 'The Polysyllabic Spree': 190, 'Fell': 191, 'Poppy': 192, 'Buried Child': 193, 'Let My People Go Surfing': 194, 'Nigella Bites': 195, 'Letters from the Earth': 196, 'The Stephen King Universe': 197, 'E': 198, 'The Sunset Limited': 199, 'Either/Or': 200, 'The Feynman Lectures on Physics': 201, 'The Passion of Jesus Christ': 202, 'Good Poems': 203, 'Rosa': 204, 'The Road to Reality': 205, 'Saint Joan': 206, 'Inuyasha Ani-Manga': 207, 'Bleach': 208, 'Oh Say Can You Say?': 209, 'Naked Economics: Undressing the Dismal Science': 210, \"Not Your Mother's Slow Cooker Cookbook\": 211, 'An Inconvenient Truth': 212, 'The Battle for God': 213, 'The Secret Lives of Men and Women': 214, 'The Trouble With Poetry': 215, \"Spider's Web\": 216, 'Five Have a Mystery to Solve': 217, 'Bad Astronomy': 218, 'The Tale of The Flopsy Bunnies': 219, 'The Lord of the Rings and Philosophy': 220, 'Essential Dialogues of Plato': 221, 'The Dream Giver': 222, 'Bargaining for Advantage': 223, \"The White Man's Burden\": 224, 'Conspiracy of Fools': 225, 'Jack of Fables': 226, \"Jamie's Dinners\": 227, 'The Trojan Women': 228, 'Conversations with J.K. Rowling': 229, \"When I Don't Desire God\": 230, 'The Authority': 231, 'Blink': 232, 'Lovingkindness': 233, 'Nine Horses': 234, 'The Illustrated on the Shoulders of Giants': 235, 'The Tough Guide to Fantasyland': 236, 'The Treasure Principle': 237, 'The Invisibles': 238, 'Vampire Hunter D Volume 1': 239, 'Lysistrata and Other Plays': 240, 'In Search of Memory': 241, 'Chew on this': 242, \"Tyler's Ultimate\": 243, 'The Art of the Novel': 244, 'Calvin and Hobbes: Sunday Pages 1985-1995': 245, 'The Origin of Consciousness in the Breakdown of the Bicameral Mind': 246, 'Only the Ring Finger Knows': 247, 'Basic Writings of Nietzsche': 248, 'The Easy Way to Stop Smoking': 249, 'What Einstein Told His Cook': 250, 'The Perennial Philosophy': 251, 'The Risk of Darkness': 252, 'Reading the Bible Again for the First Time': 253, 'New X-Men Omnibus': 254, 'The Jew of Malta': 255, 'Ultimate Unofficial Guide to the Mysteries of Harry Potter': 256, 'The Waste Land and Other Writings': 257, 'The Philosophy of History': 258, \"Feynman's Rainbow\": 259, 'Good Poems for Hard Times': 260, 'Housekeeping Vs. the Dirt': 261, 'The Making of the Fittest': 262, 'Hellsing': 263, 'Mapping the World of Harry Potter': 264, 'Fat Pig': 265, 'The Mystery of the Secret Room': 266, 'The Kingdom of God Is Within You': 267, 'Yesterday I Cried': 268, \"Wittgenstein's Poker\": 269, 'When the Heart Waits': 270, 'The Basic Works of Aristotle': 271, 'Understanding the Lord of the Rings': 272, 'Early Greek Philosophy': 273, 'Pygmalion': 274, 'The Grace Awakening': 275, 'Facts in the Case of the Departure of Miss Finch HC': 276, 'Slouching Toward Nirvana': 277, 'Frankenstein Makes a Sandwich': 278, \"Hercule Poirot's Casebook\": 279, 'The Bon Appetit Cookbook': 280, 'Who Was Anne Frank?': 281, 'The Essential Kierkegaard': 282, 'Desolation Jones': 283, \"Gabriel Garcia Marquez's Love in the Time of Cholera\": 284, 'Star Wars: Knights of the Old Republic Vol. 1--Commencement': 285, 'The 7 Habits of Highly Effective People Personal Workbook': 286, 'Being dead is no excuse': 287, \"An Ordinary Person's Guide to Empire\": 288, 'Some Ether': 289, 'Creatures of the Night': 290, 'The Anatomy Coloring Book': 291, 'Howls Moving Castle Picture Book': 292, 'How to Have a Beautiful Mind': 293, 'Vampire Hunter D Volume 3: Demon Deathase': 294, 'Applied Economics': 295, 'Not Even Wrong': 296, 'The Norton Anthology of Theory and Criticism': 297, 'Loving God with All Your Mind': 298, 'Hungry Planet': 299, 'LOVE MODE Volume 1: (Yaoi)': 300, 'The Poetry of Robert Frost': 301, 'Get Out of Your Mind & Into Your Life': 302, 'Looking for God in Harry Potter': 303, 'Next: The Future Just Happened': 304, \"Will Eisner's New York\": 305, 'More Than You Know': 306, 'When the Darkness Will Not Lift': 307, 'Identity and Violence: The Illusion of Destiny (Issues of Our Time)': 308, 'Demon Diary': 309, 'Christian Theology': 310, 'How Angel Peterson Got His Name': 311, 'Vampire Hunter D Volume 4: Tale of the Dead Town': 312, 'To the Blight': 313, 'South Park and Philosophy': 314, 'Crash Proof': 315, 'Vampire Hunter D Volume 5: The Stuff of Dreams': 316, 'Salt in His Shoes': 317, 'Hegel: A Very Short Introduction': 318, 'Ancient Greece and the Olympics': 319, 'The Marvel Comics Encyclopedia': 320}\n"
     ]
    }
   ],
   "source": [
    "print(book_id_map)"
   ]
  },
  {
   "cell_type": "code",
   "execution_count": 10,
   "metadata": {},
   "outputs": [],
   "source": [
    "def convert_titles_to_ids(transaction):\n",
    "    transaction = str(transaction)\n",
    "    return ','.join(str(book_id_map.get(title.strip(), -1)) for title in transaction.split(',') if title.strip() in book_id_map)"
   ]
  },
  {
   "cell_type": "code",
   "execution_count": 12,
   "metadata": {},
   "outputs": [
    {
     "name": "stderr",
     "output_type": "stream",
     "text": [
      "/var/folders/cs/yxjqw3zx6wl0jd1fr8bc_1s80000gn/T/ipykernel_13319/522187162.py:2: FutureWarning: DataFrame.applymap has been deprecated. Use DataFrame.map instead.\n",
      "  transaction = transaction.applymap(lambda x: convert_titles_to_ids(x))\n"
     ]
    }
   ],
   "source": [
    "transaction = pd.read_csv('../raw/transaction.csv', header=None)\n",
    "transaction = transaction.applymap(lambda x: convert_titles_to_ids(x))"
   ]
  },
  {
   "cell_type": "code",
   "execution_count": 18,
   "metadata": {},
   "outputs": [],
   "source": [
    "transaction.to_csv('final_transactions.csv', index=False, header=False)"
   ]
  },
  {
   "cell_type": "code",
   "execution_count": 20,
   "metadata": {},
   "outputs": [],
   "source": [
    "with open('final_transactions.csv', 'r') as csvfile:\n",
    "    lines = csvfile.readlines()"
   ]
  },
  {
   "cell_type": "code",
   "execution_count": 24,
   "metadata": {},
   "outputs": [],
   "source": [
    "transactions = []\n",
    "for idx, line in enumerate(lines, start=1):\n",
    "    items = [int(book_id) for book_id in line.strip().split(',') if book_id.strip()]\n",
    "    transaction_items = [{\"book_id\": book_id, \"quantity\": 1} for book_id in items]\n",
    "    transactions.append({str(idx): transaction_items})"
   ]
  },
  {
   "cell_type": "code",
   "execution_count": 25,
   "metadata": {},
   "outputs": [],
   "source": [
    "with open('transactions.json', 'w') as jsonfile:\n",
    "    json.dump(transactions, jsonfile, indent=4)"
   ]
  },
  {
   "cell_type": "code",
   "execution_count": null,
   "metadata": {},
   "outputs": [],
   "source": []
  }
 ],
 "metadata": {
  "kernelspec": {
   "display_name": "book",
   "language": "python",
   "name": "python3"
  },
  "language_info": {
   "codemirror_mode": {
    "name": "ipython",
    "version": 3
   },
   "file_extension": ".py",
   "mimetype": "text/x-python",
   "name": "python",
   "nbconvert_exporter": "python",
   "pygments_lexer": "ipython3",
   "version": "3.9.6"
  }
 },
 "nbformat": 4,
 "nbformat_minor": 2
}
